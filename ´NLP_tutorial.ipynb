{
 "cells": [
  {
   "cell_type": "code",
   "execution_count": 14,
   "id": "14dd794c",
   "metadata": {},
   "outputs": [],
   "source": [
    "import pandas as pd\n",
    "from sklearn.model_selection import train_test_split\n",
    "\n",
    "data = pd.read_csv(\"data_tutorial.csv\")\n",
    "train, test = train_test_split(data, test_size = 0.3, random_state = 123)\n",
    "validation, test = train_test_split(test, test_size = 0.33, random_state = 123) "
   ]
  },
  {
   "cell_type": "code",
   "execution_count": 15,
   "id": "f93477e7",
   "metadata": {},
   "outputs": [
    {
     "data": {
      "text/html": [
       "<div>\n",
       "<style scoped>\n",
       "    .dataframe tbody tr th:only-of-type {\n",
       "        vertical-align: middle;\n",
       "    }\n",
       "\n",
       "    .dataframe tbody tr th {\n",
       "        vertical-align: top;\n",
       "    }\n",
       "\n",
       "    .dataframe thead tr th {\n",
       "        text-align: left;\n",
       "    }\n",
       "\n",
       "    .dataframe thead tr:last-of-type th {\n",
       "        text-align: right;\n",
       "    }\n",
       "</style>\n",
       "<table border=\"1\" class=\"dataframe\">\n",
       "  <thead>\n",
       "    <tr>\n",
       "      <th></th>\n",
       "      <th colspan=\"8\" halign=\"left\">Unnamed: 0</th>\n",
       "      <th colspan=\"8\" halign=\"left\">wordcount</th>\n",
       "    </tr>\n",
       "    <tr>\n",
       "      <th></th>\n",
       "      <th>count</th>\n",
       "      <th>mean</th>\n",
       "      <th>std</th>\n",
       "      <th>min</th>\n",
       "      <th>25%</th>\n",
       "      <th>50%</th>\n",
       "      <th>75%</th>\n",
       "      <th>max</th>\n",
       "      <th>count</th>\n",
       "      <th>mean</th>\n",
       "      <th>std</th>\n",
       "      <th>min</th>\n",
       "      <th>25%</th>\n",
       "      <th>50%</th>\n",
       "      <th>75%</th>\n",
       "      <th>max</th>\n",
       "    </tr>\n",
       "    <tr>\n",
       "      <th>category</th>\n",
       "      <th></th>\n",
       "      <th></th>\n",
       "      <th></th>\n",
       "      <th></th>\n",
       "      <th></th>\n",
       "      <th></th>\n",
       "      <th></th>\n",
       "      <th></th>\n",
       "      <th></th>\n",
       "      <th></th>\n",
       "      <th></th>\n",
       "      <th></th>\n",
       "      <th></th>\n",
       "      <th></th>\n",
       "      <th></th>\n",
       "      <th></th>\n",
       "    </tr>\n",
       "  </thead>\n",
       "  <tbody>\n",
       "    <tr>\n",
       "      <th>ADHS</th>\n",
       "      <td>5060.0</td>\n",
       "      <td>3890.024111</td>\n",
       "      <td>2275.930838</td>\n",
       "      <td>20.0</td>\n",
       "      <td>1958.75</td>\n",
       "      <td>3860.0</td>\n",
       "      <td>5804.25</td>\n",
       "      <td>13982.0</td>\n",
       "      <td>5060.0</td>\n",
       "      <td>68.984190</td>\n",
       "      <td>92.782865</td>\n",
       "      <td>1.0</td>\n",
       "      <td>17.0</td>\n",
       "      <td>40.0</td>\n",
       "      <td>85.0</td>\n",
       "      <td>1346.0</td>\n",
       "    </tr>\n",
       "    <tr>\n",
       "      <th>depression_de</th>\n",
       "      <td>5042.0</td>\n",
       "      <td>4094.199127</td>\n",
       "      <td>2352.154173</td>\n",
       "      <td>1.0</td>\n",
       "      <td>2079.50</td>\n",
       "      <td>4088.5</td>\n",
       "      <td>6114.50</td>\n",
       "      <td>8215.0</td>\n",
       "      <td>5042.0</td>\n",
       "      <td>81.485323</td>\n",
       "      <td>107.970570</td>\n",
       "      <td>1.0</td>\n",
       "      <td>15.0</td>\n",
       "      <td>46.0</td>\n",
       "      <td>106.0</td>\n",
       "      <td>1179.0</td>\n",
       "    </tr>\n",
       "  </tbody>\n",
       "</table>\n",
       "</div>"
      ],
      "text/plain": [
       "              Unnamed: 0                                                   \\\n",
       "                   count         mean          std   min      25%     50%   \n",
       "category                                                                    \n",
       "ADHS              5060.0  3890.024111  2275.930838  20.0  1958.75  3860.0   \n",
       "depression_de     5042.0  4094.199127  2352.154173   1.0  2079.50  4088.5   \n",
       "\n",
       "                                wordcount                                    \\\n",
       "                   75%      max     count       mean         std  min   25%   \n",
       "category                                                                      \n",
       "ADHS           5804.25  13982.0    5060.0  68.984190   92.782865  1.0  17.0   \n",
       "depression_de  6114.50   8215.0    5042.0  81.485323  107.970570  1.0  15.0   \n",
       "\n",
       "                                    \n",
       "                50%    75%     max  \n",
       "category                            \n",
       "ADHS           40.0   85.0  1346.0  \n",
       "depression_de  46.0  106.0  1179.0  "
      ]
     },
     "execution_count": 15,
     "metadata": {},
     "output_type": "execute_result"
    }
   ],
   "source": [
    "train[\"wordcount\"] = train[\"body\"].apply(lambda n: len(n.split()))\n",
    "train.wordcount.sum()\n",
    "train.groupby(\"category\").describe()"
   ]
  },
  {
   "cell_type": "code",
   "execution_count": 16,
   "id": "3396f691",
   "metadata": {},
   "outputs": [
    {
     "data": {
      "text/plain": [
       "Text(0.5, 1.0, '30 Most Common Words in our Corpora')"
      ]
     },
     "execution_count": 16,
     "metadata": {},
     "output_type": "execute_result"
    },
    {
     "data": {
      "image/png": "[encoded data removed]",
      "text/plain": [
       "<Figure size 640x480 with 1 Axes>"
      ]
     },
     "metadata": {},
     "output_type": "display_data"
    }
   ],
   "source": [
    "from nltk.probability import FreqDist\n",
    "import matplotlib.pyplot as plt\n",
    "\n",
    "fdist = FreqDist()\n",
    "\n",
    "for comment in train.body:\n",
    "    for word in comment.split():\n",
    "        fdist[word] += 1\n",
    "        \n",
    "most_common_plot = pd.Series(dict(fdist.most_common(30)))\n",
    "plt.bar(x=most_common_plot.index, height=most_common_plot.values)\n",
    "plt.xticks(rotation=60)\n",
    "plt.title(\"30 Most Common Words in our Corpora\")\n"
   ]
  },
  {
   "cell_type": "code",
   "execution_count": 93,
   "id": "00ffb25b",
   "metadata": {},
   "outputs": [],
   "source": [
    "import re\n",
    "\n",
    "pattern = r'[^\\w\\s]' #Regular Expression select everything besides characters and whitespaces.\n",
    "train['body_cleaned'] = train['body'].apply(lambda x: re.sub(pattern, '', x))\n",
    "train['body_cleaned']= train['body_cleaned'].str.replace(\"\\n\",\" \").str.lower()"
   ]
  },
  {
   "cell_type": "code",
   "execution_count": 94,
   "id": "c0e9545e",
   "metadata": {},
   "outputs": [],
   "source": [
    "from nltk.corpus import stopwords\n",
    "\n",
    "german_stop_words = stopwords.words('german')\n",
    "train['body_stem_nostop'] = train[\"stemmed\"].apply(lambda x: [item for item in x if item not in german_stop_words])"
   ]
  },
  {
   "cell_type": "code",
   "execution_count": 95,
   "id": "d94a9aeb",
   "metadata": {},
   "outputs": [],
   "source": [
    "from sklearn.feature_extraction.text import CountVectorizer, TfidfVectorizer\n",
    "\n",
    "cv = CountVectorizer(analyzer=lambda x: x).fit(train['body_stem_nostop'])\n",
    "tf = TfidfVectorizer(analyzer=lambda x: x).fit(train['body_stem_nostop'])\n",
    "\n",
    "cv_data = cv.transform(train['body_stem_nostop'])\n",
    "tf_data = tf.transform(train['body_stem_nostop'])"
   ]
  },
  {
   "cell_type": "code",
   "execution_count": 96,
   "id": "ebb78687",
   "metadata": {},
   "outputs": [
    {
     "name": "stderr",
     "output_type": "stream",
     "text": [
      "C:\\Users\\49157\\anaconda3\\lib\\site-packages\\sklearn\\linear_model\\_logistic.py:458: ConvergenceWarning: lbfgs failed to converge (status=1):\n",
      "STOP: TOTAL NO. of ITERATIONS REACHED LIMIT.\n",
      "\n",
      "Increase the number of iterations (max_iter) or scale the data as shown in:\n",
      "    https://scikit-learn.org/stable/modules/preprocessing.html\n",
      "Please also refer to the documentation for alternative solver options:\n",
      "    https://scikit-learn.org/stable/modules/linear_model.html#logistic-regression\n",
      "  n_iter_i = _check_optimize_result(\n"
     ]
    },
    {
     "data": {
      "text/plain": [
       "array(['ADHS'], dtype=object)"
      ]
     },
     "execution_count": 96,
     "metadata": {},
     "output_type": "execute_result"
    }
   ],
   "source": [
    "from sklearn.linear_model import LogisticRegression\n",
    "\n",
    "cvlog = LogisticRegression().fit(cv_data, train[\"category\"])\n",
    "tflog = LogisticRegression().fit(tf_data, train[\"category\"])\n",
    "\n",
    "test_data_cv = cv.transform([[\"beispiel\", \"wort\", \"fur\", \"vorhersag\"]])\n",
    "test_data_tf = tf.transform([[\"aktiv\", \"konzentration\"]])\n",
    "\n",
    "cvlog.predict(test_data_cv)\n",
    "tflog.predict(test_data_tf)"
   ]
  },
  {
   "cell_type": "code",
   "execution_count": 97,
   "id": "6f70e6b0",
   "metadata": {},
   "outputs": [],
   "source": [
    "import gensim.models.keyedvectors as word2vec\n",
    "import gensim\n",
    "import urllib.request \n",
    "\n",
    "urllib.request.urlretrieve('https://cloud.devmount.de/d2bc5672c523b086/german.model', 'word2vecgerman.model')\n",
    "model = gensim.models.KeyedVectors.load_word2vec_format('./word2vecgerman.model', binary=True)"
   ]
  },
  {
   "cell_type": "code",
   "execution_count": 98,
   "id": "a10b10ea",
   "metadata": {},
   "outputs": [
    {
     "name": "stderr",
     "output_type": "stream",
     "text": [
      "C:\\Users\\49157\\AppData\\Local\\Temp\\ipykernel_524\\129068271.py:4: VisibleDeprecationWarning: Creating an ndarray from ragged nested sequences (which is a list-or-tuple of lists-or-tuples-or ndarrays with different lengths or shapes) is deprecated. If you meant to do this, you must specify 'dtype=object' when creating the ndarray.\n",
      "  train[\"embedd\"] = np.array([np.array([model[i] for i in ls.split(\" \") if i in words]) for ls in train[\"body\"]])\n"
     ]
    }
   ],
   "source": [
    "import numpy as np\n",
    "\n",
    "words = set(model.index_to_key )\n",
    "train[\"embedd\"] = np.array([np.array([model[i] for i in ls.split(\" \") if i in words]) for ls in train[\"body\"]])"
   ]
  },
  {
   "cell_type": "code",
   "execution_count": 99,
   "id": "e711bf43",
   "metadata": {},
   "outputs": [],
   "source": [
    "train_vect_avg = []\n",
    "for values in train[\"embedd\"]:\n",
    "    if  values.size:\n",
    "        train_vect_avg.append(np.mean(values, axis=0))\n",
    "    else:\n",
    "        train_vect_avg.append(np.zeros(300, dtype=float))\n",
    "\n",
    "w2vmodel = LogisticRegression().fit(pd.DataFrame(train_vect_avg), train[\"category\"])"
   ]
  },
  {
   "cell_type": "code",
   "execution_count": 100,
   "id": "bd45992f",
   "metadata": {},
   "outputs": [
    {
     "name": "stderr",
     "output_type": "stream",
     "text": [
      "Warning : `load_model` does not return WordVectorModel or SupervisedModel any more, but a `FastText` object which is very similar.\n"
     ]
    }
   ],
   "source": [
    "import fasttext.util\n",
    "\n",
    "fasttext.util.download_model('de', if_exists='ignore') \n",
    "ft = fasttext.load_model('cc.de.300.bin')"
   ]
  },
  {
   "cell_type": "code",
   "execution_count": 121,
   "id": "d1ddbf53",
   "metadata": {},
   "outputs": [],
   "source": [
    "train[\"embedd_fasttext\"] = train['body_cleaned'].apply(lambda x: ft.get_sentence_vector(x))\n",
    "fasttext_train = train[\"embedd_fasttext\"].apply(lambda x: pd.Series(x)) #Flatten Arrays into single columns\n",
    "fastmodel = LogisticRegression().fit(fasttext_train, train[\"category\"])"
   ]
  },
  {
   "cell_type": "code",
   "execution_count": 128,
   "id": "b37e4000",
   "metadata": {},
   "outputs": [
    {
     "name": "stderr",
     "output_type": "stream",
     "text": [
      "C:\\Users\\49157\\AppData\\Local\\Temp\\ipykernel_524\\2325199192.py:10: VisibleDeprecationWarning: Creating an ndarray from ragged nested sequences (which is a list-or-tuple of lists-or-tuples-or ndarrays with different lengths or shapes) is deprecated. If you meant to do this, you must specify 'dtype=object' when creating the ndarray.\n",
      "  train[\"embedd_own\"] = np.array([np.array([w2v_model.wv[i] for i in ls if i in words])\n",
      "C:\\Users\\49157\\anaconda3\\lib\\site-packages\\sklearn\\linear_model\\_logistic.py:458: ConvergenceWarning: lbfgs failed to converge (status=1):\n",
      "STOP: TOTAL NO. of ITERATIONS REACHED LIMIT.\n",
      "\n",
      "Increase the number of iterations (max_iter) or scale the data as shown in:\n",
      "    https://scikit-learn.org/stable/modules/preprocessing.html\n",
      "Please also refer to the documentation for alternative solver options:\n",
      "    https://scikit-learn.org/stable/modules/linear_model.html#logistic-regression\n",
      "  n_iter_i = _check_optimize_result(\n"
     ]
    }
   ],
   "source": [
    "from gensim.models import Word2Vec\n",
    "\n",
    "w2v_model = gensim.models.Word2Vec(train[\"body_stem_nostop\"],\n",
    "                                   vector_size=500,\n",
    "                                   window=5,\n",
    "                                   min_count=10)\n",
    "\n",
    "words = set(w2v_model.wv.index_to_key )\n",
    "\n",
    "train[\"embedd_own\"] = np.array([np.array([w2v_model.wv[i] for i in ls if i in words])\n",
    "                         for ls in train[\"body_stem_nostop\"]])\n",
    "\n",
    "\n",
    "train_vect_avg = []\n",
    "for value in train[\"embedd_own\"]:\n",
    "    if value.size:\n",
    "        train_vect_avg.append(value.mean(axis=0))\n",
    "    else:\n",
    "        train_vect_avg.append(np.zeros(500, dtype=float))\n",
    "\n",
    "selftrainedw2v = LogisticRegression().fit(pd.DataFrame(train_vect_avg), train[\"category\"])"
   ]
  },
  {
   "cell_type": "code",
   "execution_count": 132,
   "id": "c6ede66f",
   "metadata": {},
   "outputs": [],
   "source": [
    "train['category_fasttext'] = '__label__' + train['category']\n",
    "fasttexttrain = train['category_fasttext'] + \" \" + train['body_stem_nostop'].apply(lambda word_list: ' '.join(word_list))\n",
    "\n",
    "f_train = open(\"train.txt\", \"a\", encoding=\"utf-8\")\n",
    "for i in range(len(np.array(fasttexttrain))):\n",
    "    f_train.write(np.array(fasttexttrain)[i] + \"\\n\")\n",
    "f_train.close()\n",
    "\n",
    "model = fasttext.train_supervised(input=\"train.txt\")"
   ]
  }
 ],
 "metadata": {
  "kernelspec": {
   "display_name": "Python 3 (ipykernel)",
   "language": "python",
   "name": "python3"
  },
  "language_info": {
   "codemirror_mode": {
    "name": "ipython",
    "version": 3
   },
   "file_extension": ".py",
   "mimetype": "text/x-python",
   "name": "python",
   "nbconvert_exporter": "python",
   "pygments_lexer": "ipython3",
   "version": "3.9.13"
  }
 },
 "nbformat": 4,
 "nbformat_minor": 5
}
