{
 "cells": [
  {
   "cell_type": "code",
   "execution_count": 34,
   "id": "815e6c6e",
   "metadata": {},
   "outputs": [],
   "source": [
    "import pandas as pd\n",
    "\n",
    "\n",
    "adhd = pd.read_csv(\"subreddit_adhd.csv\")\n",
    "depression = pd.read_csv(\"subreddit_depression.csv\")"
   ]
  },
  {
   "cell_type": "code",
   "execution_count": 35,
   "id": "e17960b8",
   "metadata": {},
   "outputs": [],
   "source": [
    "adhd = adhd[adhd.dataType == \"comment\"].sort_values(\"createdAt\").tail(7216)\n",
    "depression = depression[depression.dataType==\"comment\"]\n",
    "pd.concat([adhd[[\"body\", \"category\"]], depression[[\"body\",\"category\"]]]).to_csv(\"data_tutorial.csv\")"
   ]
  },
  {
   "cell_type": "code",
   "execution_count": 38,
   "id": "dc166abc",
   "metadata": {},
   "outputs": [
    {
     "data": {
      "text/html": [
       "<div>\n",
       "<style scoped>\n",
       "    .dataframe tbody tr th:only-of-type {\n",
       "        vertical-align: middle;\n",
       "    }\n",
       "\n",
       "    .dataframe tbody tr th {\n",
       "        vertical-align: top;\n",
       "    }\n",
       "\n",
       "    .dataframe thead th {\n",
       "        text-align: right;\n",
       "    }\n",
       "</style>\n",
       "<table border=\"1\" class=\"dataframe\">\n",
       "  <thead>\n",
       "    <tr style=\"text-align: right;\">\n",
       "      <th></th>\n",
       "      <th>body</th>\n",
       "      <th>category</th>\n",
       "    </tr>\n",
       "  </thead>\n",
       "  <tbody>\n",
       "    <tr>\n",
       "      <th>7689</th>\n",
       "      <td>Hab es von Anfang an kommuniziert. Ich habe ab...</td>\n",
       "      <td>ADHS</td>\n",
       "    </tr>\n",
       "    <tr>\n",
       "      <th>9115</th>\n",
       "      <td>verspannungen:\\n\\neher irgendein mangel. \\n\\nB...</td>\n",
       "      <td>ADHS</td>\n",
       "    </tr>\n",
       "    <tr>\n",
       "      <th>7769</th>\n",
       "      <td>Es könnte auch eine Muskelverspannung sein. Be...</td>\n",
       "      <td>ADHS</td>\n",
       "    </tr>\n",
       "    <tr>\n",
       "      <th>7665</th>\n",
       "      <td>\"neurodiversen\"</td>\n",
       "      <td>ADHS</td>\n",
       "    </tr>\n",
       "    <tr>\n",
       "      <th>7731</th>\n",
       "      <td>Vielleicht war es so, vielleicht auch nicht. D...</td>\n",
       "      <td>ADHS</td>\n",
       "    </tr>\n",
       "    <tr>\n",
       "      <th>...</th>\n",
       "      <td>...</td>\n",
       "      <td>...</td>\n",
       "    </tr>\n",
       "    <tr>\n",
       "      <th>8211</th>\n",
       "      <td>Da hast du Recht. Danke für die Mühen und dein...</td>\n",
       "      <td>depression_de</td>\n",
       "    </tr>\n",
       "    <tr>\n",
       "      <th>8212</th>\n",
       "      <td>Ich meine aber explizit nicht die Erkenntnis u...</td>\n",
       "      <td>depression_de</td>\n",
       "    </tr>\n",
       "    <tr>\n",
       "      <th>8213</th>\n",
       "      <td>Gute Klarstellung.</td>\n",
       "      <td>depression_de</td>\n",
       "    </tr>\n",
       "    <tr>\n",
       "      <th>8214</th>\n",
       "      <td>Danke! Ich wollte lediglich kurz auf meinen Be...</td>\n",
       "      <td>depression_de</td>\n",
       "    </tr>\n",
       "    <tr>\n",
       "      <th>8215</th>\n",
       "      <td>&amp;gt; Als ich ihr dann erzählte warum ich da bi...</td>\n",
       "      <td>depression_de</td>\n",
       "    </tr>\n",
       "  </tbody>\n",
       "</table>\n",
       "<p>14432 rows × 2 columns</p>\n",
       "</div>"
      ],
      "text/plain": [
       "                                                   body       category\n",
       "7689  Hab es von Anfang an kommuniziert. Ich habe ab...           ADHS\n",
       "9115  verspannungen:\\n\\neher irgendein mangel. \\n\\nB...           ADHS\n",
       "7769  Es könnte auch eine Muskelverspannung sein. Be...           ADHS\n",
       "7665                                    \"neurodiversen\"           ADHS\n",
       "7731  Vielleicht war es so, vielleicht auch nicht. D...           ADHS\n",
       "...                                                 ...            ...\n",
       "8211  Da hast du Recht. Danke für die Mühen und dein...  depression_de\n",
       "8212  Ich meine aber explizit nicht die Erkenntnis u...  depression_de\n",
       "8213                                 Gute Klarstellung.  depression_de\n",
       "8214  Danke! Ich wollte lediglich kurz auf meinen Be...  depression_de\n",
       "8215  &gt; Als ich ihr dann erzählte warum ich da bi...  depression_de\n",
       "\n",
       "[14432 rows x 2 columns]"
      ]
     },
     "execution_count": 38,
     "metadata": {},
     "output_type": "execute_result"
    }
   ],
   "source": [
    "pd.concat([adhd[[\"body\", \"category\"]], depression[[\"body\",\"category\"]]])"
   ]
  },
  {
   "cell_type": "code",
   "execution_count": null,
   "id": "6900c41b",
   "metadata": {},
   "outputs": [],
   "source": []
  }
 ],
 "metadata": {
  "kernelspec": {
   "display_name": "Python 3 (ipykernel)",
   "language": "python",
   "name": "python3"
  },
  "language_info": {
   "codemirror_mode": {
    "name": "ipython",
    "version": 3
   },
   "file_extension": ".py",
   "mimetype": "text/x-python",
   "name": "python",
   "nbconvert_exporter": "python",
   "pygments_lexer": "ipython3",
   "version": "3.9.13"
  }
 },
 "nbformat": 4,
 "nbformat_minor": 5
}
